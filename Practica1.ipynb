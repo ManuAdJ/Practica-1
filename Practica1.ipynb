{
  "nbformat": 4,
  "nbformat_minor": 0,
  "metadata": {
    "colab": {
      "provenance": []
    },
    "kernelspec": {
      "name": "python3",
      "display_name": "Python 3"
    },
    "language_info": {
      "name": "python"
    }
  },
  "cells": [
    {
      "cell_type": "code",
      "execution_count": null,
      "metadata": {
        "colab": {
          "base_uri": "https://localhost:8080/"
        },
        "id": "pgQieVDXRggg",
        "outputId": "f98f1aaf-05b4-4fe8-9a5f-ffc61846c010"
      },
      "outputs": [
        {
          "output_type": "stream",
          "name": "stdout",
          "text": [
            "La cadena tiene parentesis bien formados.\n",
            "Resultado: True\n"
          ]
        }
      ],
      "source": [
        "\"\"\"\n",
        "Practica 1. Validar un parentesis bien formado en una cadena.\n",
        "\n",
        "La intención de este programa es verificar que una cadena esta bien formada cuando usamos una pila.\n",
        "\n",
        "Nicolas Sayago Victor Gabriel.\n",
        "Solano Vargas Manuel Abraham de Jesus.\n",
        "\"\"\"\n",
        "\n",
        "def parentesis_correctos(cadena):\n",
        "    # Para iniciar creamos una pila vacia para poner los parentesis\n",
        "    pila = []\n",
        "\n",
        "    # Depues mapeamos los parentesis abiertos y sus contrapartes\n",
        "    mapeo = {')': '(', '}': '{', ']': '['}\n",
        "\n",
        "    # Ahora recorremos cada caracter en la cadena\n",
        "    for caracter in cadena:\n",
        "        if caracter in '({[':\n",
        "            # Si el parentesis es abierto, lo agregamos a la pila\n",
        "            pila.append(caracter)\n",
        "        elif caracter in ')}]':\n",
        "            # Si el parentesis es cerrado, verificamos si coincide con el ultimo parentesis abierto\n",
        "            if not pila or pila[-1] != mapeo[caracter]:\n",
        "                # Si no coincide, no esta bien formada la cadena\n",
        "                print(f\"Se rechazo la cadena debido a un parentesis incorrecto: {caracter}\")\n",
        "                return False\n",
        "            # Si coincide, eliminamos el ultimo parentesis abierto\n",
        "            pila.pop()\n",
        "\n",
        "    # Para finalizar, la pila debe estar vacia si la cadena esta bien formada\n",
        "    if not pila:\n",
        "        print(\"La cadena tiene parentesis bien formados.\")\n",
        "        return True\n",
        "    else:\n",
        "        print(\"Se rechazo la cadena debido a parentesis no cerrados.\")\n",
        "        return False\n",
        "\n",
        "if __name__ == \"__main__\":\n",
        "  cadena_ejemplo = \"({[()]})\"\n",
        "  #cadena_ejemplo = \"({[()]}\" # Usar para resultado False\n",
        "  resultado = parentesis_correctos(cadena_ejemplo)\n",
        "  print(f\"Resultado: {resultado}\")\n"
      ]
    }
  ]
}